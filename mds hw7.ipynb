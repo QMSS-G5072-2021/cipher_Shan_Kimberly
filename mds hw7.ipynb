{
 "cells": [
  {
   "cell_type": "markdown",
   "id": "cca6a28d",
   "metadata": {},
   "source": [
    "## HW 7 Build your own Python Package"
   ]
  },
  {
   "cell_type": "markdown",
   "id": "dcf85c51",
   "metadata": {},
   "source": [
    "### 4. Publish to test.pypi.org"
   ]
  },
  {
   "cell_type": "markdown",
   "id": "e9be65f9",
   "metadata": {},
   "source": [
    "- provide a link to your TestPyPi package and the repo of your package"
   ]
  },
  {
   "cell_type": "markdown",
   "id": "ac1ae6f4",
   "metadata": {},
   "source": [
    "TestPyPi package: https://test.pypi.org/project/cipher-xs2428-mds/"
   ]
  },
  {
   "cell_type": "markdown",
   "id": "63d86392",
   "metadata": {},
   "source": [
    "The repo:https://github.com/QMSS-G5072-2021/cipher_Shan_Kimberly"
   ]
  },
  {
   "cell_type": "markdown",
   "id": "9d789ef1",
   "metadata": {},
   "source": [
    "- directly install your package from TestPyPi"
   ]
  },
  {
   "cell_type": "code",
   "execution_count": 2,
   "id": "4b4b828c",
   "metadata": {},
   "outputs": [
    {
     "name": "stdout",
     "output_type": "stream",
     "text": [
      "Looking in indexes: https://test.pypi.org/simple/\r\n",
      "Requirement already satisfied: cipher-xs2428-mds in /Users/kimberlyshan/Library/Caches/pypoetry/virtualenvs/cipher-xs2428-mds-H0DE78Br-py3.9/lib/python3.9/site-packages (0.1.0)\r\n",
      "Requirement already satisfied: pandas<2.0.0,>=1.3.4 in /Users/kimberlyshan/Library/Caches/pypoetry/virtualenvs/cipher-xs2428-mds-H0DE78Br-py3.9/lib/python3.9/site-packages (from cipher-xs2428-mds) (1.3.4)\r\n",
      "Requirement already satisfied: numpy>=1.17.3 in /Users/kimberlyshan/Library/Caches/pypoetry/virtualenvs/cipher-xs2428-mds-H0DE78Br-py3.9/lib/python3.9/site-packages (from pandas<2.0.0,>=1.3.4->cipher-xs2428-mds) (1.21.4)\r\n",
      "Requirement already satisfied: pytz>=2017.3 in /Users/kimberlyshan/Library/Caches/pypoetry/virtualenvs/cipher-xs2428-mds-H0DE78Br-py3.9/lib/python3.9/site-packages (from pandas<2.0.0,>=1.3.4->cipher-xs2428-mds) (2021.3)\r\n",
      "Requirement already satisfied: python-dateutil>=2.7.3 in /Users/kimberlyshan/Library/Caches/pypoetry/virtualenvs/cipher-xs2428-mds-H0DE78Br-py3.9/lib/python3.9/site-packages (from pandas<2.0.0,>=1.3.4->cipher-xs2428-mds) (2.8.2)\r\n",
      "Requirement already satisfied: six>=1.5 in /Users/kimberlyshan/Library/Caches/pypoetry/virtualenvs/cipher-xs2428-mds-H0DE78Br-py3.9/lib/python3.9/site-packages (from python-dateutil>=2.7.3->pandas<2.0.0,>=1.3.4->cipher-xs2428-mds) (1.16.0)\r\n"
     ]
    }
   ],
   "source": [
    "!pip install -i https://test.pypi.org/simple/ cipher-xs2428-mds"
   ]
  },
  {
   "cell_type": "code",
   "execution_count": 9,
   "id": "b5dca4a8",
   "metadata": {},
   "outputs": [
    {
     "name": "stdout",
     "output_type": "stream",
     "text": [
      "Looking in indexes: https://test.pypi.org/simple/\n",
      "Requirement already satisfied: cipher-xs2428-mds in /Users/kimberlyshan/Library/Caches/pypoetry/virtualenvs/cipher-xs2428-mds-H0DE78Br-py3.9/lib/python3.9/site-packages (0.1.0)\n",
      "Requirement already satisfied: pandas<2.0.0,>=1.3.4 in /Users/kimberlyshan/Library/Caches/pypoetry/virtualenvs/cipher-xs2428-mds-H0DE78Br-py3.9/lib/python3.9/site-packages (from cipher-xs2428-mds) (1.3.4)\n",
      "Requirement already satisfied: python-dateutil>=2.7.3 in /Users/kimberlyshan/Library/Caches/pypoetry/virtualenvs/cipher-xs2428-mds-H0DE78Br-py3.9/lib/python3.9/site-packages (from pandas<2.0.0,>=1.3.4->cipher-xs2428-mds) (2.8.2)\n",
      "Requirement already satisfied: pytz>=2017.3 in /Users/kimberlyshan/Library/Caches/pypoetry/virtualenvs/cipher-xs2428-mds-H0DE78Br-py3.9/lib/python3.9/site-packages (from pandas<2.0.0,>=1.3.4->cipher-xs2428-mds) (2021.3)\n",
      "Requirement already satisfied: numpy>=1.17.3 in /Users/kimberlyshan/Library/Caches/pypoetry/virtualenvs/cipher-xs2428-mds-H0DE78Br-py3.9/lib/python3.9/site-packages (from pandas<2.0.0,>=1.3.4->cipher-xs2428-mds) (1.21.4)\n",
      "Requirement already satisfied: six>=1.5 in /Users/kimberlyshan/Library/Caches/pypoetry/virtualenvs/cipher-xs2428-mds-H0DE78Br-py3.9/lib/python3.9/site-packages (from python-dateutil>=2.7.3->pandas<2.0.0,>=1.3.4->cipher-xs2428-mds) (1.16.0)\n"
     ]
    }
   ],
   "source": [
    "!pip install -i https://test.pypi.org/simple/ cipher-xs2428-mds"
   ]
  },
  {
   "cell_type": "markdown",
   "id": "07d2a4fb",
   "metadata": {},
   "source": [
    "- import your package"
   ]
  },
  {
   "cell_type": "code",
   "execution_count": 4,
   "id": "6a665514",
   "metadata": {},
   "outputs": [],
   "source": [
    "from cipher_xs2428_mds import cipher_xs2428_mds"
   ]
  },
  {
   "cell_type": "markdown",
   "id": "9dcfcdcd",
   "metadata": {},
   "source": [
    "- run the cipher function for an example"
   ]
  },
  {
   "cell_type": "code",
   "execution_count": 10,
   "id": "a8b0fdb6",
   "metadata": {},
   "outputs": [
    {
     "ename": "AttributeError",
     "evalue": "module 'cipher_xs2428_mds.cipher_xs2428_mds' has no attribute 'cipher'",
     "output_type": "error",
     "traceback": [
      "\u001b[0;31m---------------------------------------------------------------------------\u001b[0m",
      "\u001b[0;31mAttributeError\u001b[0m                            Traceback (most recent call last)",
      "\u001b[0;32m/var/folders/pp/94f6fngx1jn3q7nmy843zgfh0000gn/T/ipykernel_61285/982099178.py\u001b[0m in \u001b[0;36m<module>\u001b[0;34m\u001b[0m\n\u001b[0;32m----> 1\u001b[0;31m \u001b[0mcipher_xs2428_mds\u001b[0m\u001b[0;34m.\u001b[0m\u001b[0mcipher\u001b[0m\u001b[0;34m(\u001b[0m\u001b[0;34m'Apple'\u001b[0m\u001b[0;34m,\u001b[0m\u001b[0;36m1\u001b[0m\u001b[0;34m)\u001b[0m\u001b[0;34m\u001b[0m\u001b[0;34m\u001b[0m\u001b[0m\n\u001b[0m",
      "\u001b[0;31mAttributeError\u001b[0m: module 'cipher_xs2428_mds.cipher_xs2428_mds' has no attribute 'cipher'"
     ]
    }
   ],
   "source": [
    "cipher_xs2428_mds.cipher('Apple',1)"
   ]
  },
  {
   "cell_type": "code",
   "execution_count": 7,
   "id": "20c802d3",
   "metadata": {},
   "outputs": [
    {
     "name": "stdout",
     "output_type": "stream",
     "text": [
      "Help on module cipher_xs2428_mds.cipher_xs2428_mds in cipher_xs2428_mds:\n",
      "\n",
      "NAME\n",
      "    cipher_xs2428_mds.cipher_xs2428_mds\n",
      "\n",
      "FILE\n",
      "    /Users/kimberlyshan/cipher_xs2428_mds/src/cipher_xs2428_mds/cipher_xs2428_mds.py\n",
      "\n",
      "\n"
     ]
    }
   ],
   "source": [
    "help(cipher_xs2428_mds)"
   ]
  },
  {
   "cell_type": "code",
   "execution_count": 8,
   "id": "1b947236",
   "metadata": {},
   "outputs": [
    {
     "ename": "AttributeError",
     "evalue": "module 'cipher_xs2428_mds.cipher_xs2428_mds' has no attribute 'cipher'",
     "output_type": "error",
     "traceback": [
      "\u001b[0;31m---------------------------------------------------------------------------\u001b[0m",
      "\u001b[0;31mAttributeError\u001b[0m                            Traceback (most recent call last)",
      "\u001b[0;32m/var/folders/pp/94f6fngx1jn3q7nmy843zgfh0000gn/T/ipykernel_61285/3232066767.py\u001b[0m in \u001b[0;36m<module>\u001b[0;34m\u001b[0m\n\u001b[0;32m----> 1\u001b[0;31m \u001b[0mhelp\u001b[0m\u001b[0;34m(\u001b[0m\u001b[0mcipher_xs2428_mds\u001b[0m\u001b[0;34m.\u001b[0m\u001b[0mcipher\u001b[0m\u001b[0;34m)\u001b[0m\u001b[0;34m\u001b[0m\u001b[0;34m\u001b[0m\u001b[0m\n\u001b[0m",
      "\u001b[0;31mAttributeError\u001b[0m: module 'cipher_xs2428_mds.cipher_xs2428_mds' has no attribute 'cipher'"
     ]
    }
   ],
   "source": [
    "help(cipher_xs2428_mds.cipher)"
   ]
  },
  {
   "cell_type": "code",
   "execution_count": null,
   "id": "91574a9d",
   "metadata": {},
   "outputs": [],
   "source": []
  }
 ],
 "metadata": {
  "kernelspec": {
   "display_name": "Python 3 (ipykernel)",
   "language": "python",
   "name": "python3"
  },
  "language_info": {
   "codemirror_mode": {
    "name": "ipython",
    "version": 3
   },
   "file_extension": ".py",
   "mimetype": "text/x-python",
   "name": "python",
   "nbconvert_exporter": "python",
   "pygments_lexer": "ipython3",
   "version": "3.9.7"
  }
 },
 "nbformat": 4,
 "nbformat_minor": 5
}
